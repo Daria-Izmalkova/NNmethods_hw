{
  "nbformat": 4,
  "nbformat_minor": 0,
  "metadata": {
    "colab": {
      "name": "hw2.ipynb",
      "provenance": [],
      "collapsed_sections": []
    },
    "kernelspec": {
      "name": "python3",
      "display_name": "Python 3"
    },
    "language_info": {
      "name": "python"
    }
  },
  "cells": [
    {
      "cell_type": "markdown",
      "source": [
        "Измалкова Дарья БКЛ182\n",
        "# Домашнее задание № 2"
      ],
      "metadata": {
        "id": "wHGGhvTGWVJI"
      }
    },
    {
      "cell_type": "code",
      "execution_count": 1,
      "metadata": {
        "id": "m9JOON8N_vfl"
      },
      "outputs": [],
      "source": [
        "import pandas as pd\n",
        "import numpy as np\n",
        "from string import punctuation\n",
        "from collections import Counter\n",
        "import re\n",
        "import matplotlib.pyplot as plt\n",
        "\n",
        "from sklearn.model_selection import train_test_split\n",
        "from sklearn.utils import shuffle\n",
        "import torch\n",
        "import torch.nn as nn\n",
        "import torch.nn.functional as F\n",
        "from torchmetrics.functional import f1\n",
        "from torch.utils.data import Dataset, DataLoader, RandomSampler, SequentialSampler\n",
        "from torch.nn.utils.rnn import pad_sequence\n",
        "import torch.optim as optim\n",
        "from gensim.models import FastText\n",
        "import ipdb\n",
        "import spacy"
      ]
    },
    {
      "cell_type": "markdown",
      "source": [
        "## Подготовка данных"
      ],
      "metadata": {
        "id": "tM50q8WHYqV5"
      }
    },
    {
      "cell_type": "code",
      "source": [
        "positive = pd.read_csv('positive.csv', encoding='utf-8', sep=';', header=None,  names=[0,1,2,'text','tone',5,6,7,8,9,10,11])\n",
        "negative = pd.read_csv('negative.csv', encoding='utf-8', sep=';', header=None, names=[0,1,2,'text','tone',5,6,7,8,9,10,11])"
      ],
      "metadata": {
        "id": "Ng4WGz-UDXRa"
      },
      "execution_count": 2,
      "outputs": []
    },
    {
      "cell_type": "code",
      "source": [
        "negative['tone'] = negative['tone'].apply(lambda x: x * 0)\n",
        "all_tweets_data = positive.append(negative)"
      ],
      "metadata": {
        "id": "fzBnU0-TiRWw"
      },
      "execution_count": 3,
      "outputs": []
    },
    {
      "cell_type": "code",
      "source": [
        "def preprocess(text): \n",
        "    text = text.lower().replace(\"ё\", \"е\")\n",
        "    text = re.sub('((www\\.[^\\s]+)|(https?://[^\\s]+))', 'URL', text)\n",
        "    text = re.sub('@[^\\s]+', 'USER', text)\n",
        "    text = re.sub('[^a-zA-Zа-яА-Я1-9]+', ' ', text)\n",
        "    text = re.sub(' +', ' ', text)\n",
        "    return text"
      ],
      "metadata": {
        "id": "r2JSPqJNMwwL"
      },
      "execution_count": 4,
      "outputs": []
    },
    {
      "cell_type": "code",
      "source": [
        "all_tweets_data['clean_text'] = all_tweets_data.text.apply(preprocess)\n",
        "all_tweets_data = shuffle(all_tweets_data[['clean_text','tone', 'text']])"
      ],
      "metadata": {
        "id": "UoRCcKYGM6Zf"
      },
      "execution_count": 5,
      "outputs": []
    },
    {
      "cell_type": "code",
      "source": [
        "train_data, val_data = train_test_split(all_tweets_data, test_size=0.2)"
      ],
      "metadata": {
        "id": "NPxk_CR0NJxT"
      },
      "execution_count": 6,
      "outputs": []
    },
    {
      "cell_type": "code",
      "source": [
        "train_data[:10]"
      ],
      "metadata": {
        "colab": {
          "base_uri": "https://localhost:8080/",
          "height": 362
        },
        "id": "bN9RJqPkSnIx",
        "outputId": "b6146906-9761-4db5-e757-f5840e56dc5c"
      },
      "execution_count": 7,
      "outputs": [
        {
          "output_type": "execute_result",
          "data": {
            "text/html": [
              "<div>\n",
              "<style scoped>\n",
              "    .dataframe tbody tr th:only-of-type {\n",
              "        vertical-align: middle;\n",
              "    }\n",
              "\n",
              "    .dataframe tbody tr th {\n",
              "        vertical-align: top;\n",
              "    }\n",
              "\n",
              "    .dataframe thead th {\n",
              "        text-align: right;\n",
              "    }\n",
              "</style>\n",
              "<table border=\"1\" class=\"dataframe\">\n",
              "  <thead>\n",
              "    <tr style=\"text-align: right;\">\n",
              "      <th></th>\n",
              "      <th>clean_text</th>\n",
              "      <th>tone</th>\n",
              "      <th>text</th>\n",
              "    </tr>\n",
              "  </thead>\n",
              "  <tbody>\n",
              "    <tr>\n",
              "      <th>80204</th>\n",
              "      <td>USER ну как такое может не дарить радость</td>\n",
              "      <td>1</td>\n",
              "      <td>@LudmilaMaslak ну как такое может не дарить ра...</td>\n",
              "    </tr>\n",
              "    <tr>\n",
              "      <th>88815</th>\n",
              "      <td>USER кстати где мой приз за лампочки и выключа...</td>\n",
              "      <td>1</td>\n",
              "      <td>@pavel_tychkov кстати где мой приз за лампочки...</td>\n",
              "    </tr>\n",
              "    <tr>\n",
              "      <th>3228</th>\n",
              "      <td>USER хз хотела у кого нибудь подготовиться</td>\n",
              "      <td>0</td>\n",
              "      <td>@OxanaStarostina хз( хотела у кого нибудь подг...</td>\n",
              "    </tr>\n",
              "    <tr>\n",
              "      <th>53148</th>\n",
              "      <td>на данный момент мои сладости это таблеточки ф...</td>\n",
              "      <td>0</td>\n",
              "      <td>на данный момент мои сладости - это таблеточки...</td>\n",
              "    </tr>\n",
              "    <tr>\n",
              "      <th>70296</th>\n",
              "      <td>USER а обещала написать gt lt попппаааа</td>\n",
              "      <td>0</td>\n",
              "      <td>@UmmiYosh а обещала написать &amp;gt;.&amp;lt; попппаааа(</td>\n",
              "    </tr>\n",
              "    <tr>\n",
              "      <th>108140</th>\n",
              "      <td>всем добра ага и тебе добра URL</td>\n",
              "      <td>1</td>\n",
              "      <td>Всем добра? — Ага и тебе добра) http://t.co/Ep...</td>\n",
              "    </tr>\n",
              "    <tr>\n",
              "      <th>81854</th>\n",
              "      <td>USER значит родители скорее всего назовут свое...</td>\n",
              "      <td>1</td>\n",
              "      <td>@hot_fact значит родители скорее всего назовут...</td>\n",
              "    </tr>\n",
              "    <tr>\n",
              "      <th>34556</th>\n",
              "      <td>q толстеешь ты зая a URL</td>\n",
              "      <td>0</td>\n",
              "      <td>Q: Толстеешь ты, зая (  A: http://t.co/tigWKZx6QA</td>\n",
              "    </tr>\n",
              "    <tr>\n",
              "      <th>19132</th>\n",
              "      <td>USER это она небось из женской солидарности ту...</td>\n",
              "      <td>0</td>\n",
              "      <td>@ninethin это она небось из женской солидарнос...</td>\n",
              "    </tr>\n",
              "    <tr>\n",
              "      <th>71439</th>\n",
              "      <td>USER даааа не позавидуешь ну хоть не помойка</td>\n",
              "      <td>1</td>\n",
              "      <td>@switeTutt даааа не позавидуешь... Ну хоть не ...</td>\n",
              "    </tr>\n",
              "  </tbody>\n",
              "</table>\n",
              "</div>"
            ],
            "text/plain": [
              "                                               clean_text  ...                                               text\n",
              "80204          USER ну как такое может не дарить радость   ...  @LudmilaMaslak ну как такое может не дарить ра...\n",
              "88815   USER кстати где мой приз за лампочки и выключа...  ...  @pavel_tychkov кстати где мой приз за лампочки...\n",
              "3228           USER хз хотела у кого нибудь подготовиться  ...  @OxanaStarostina хз( хотела у кого нибудь подг...\n",
              "53148   на данный момент мои сладости это таблеточки ф...  ...  на данный момент мои сладости - это таблеточки...\n",
              "70296            USER а обещала написать gt lt попппаааа   ...  @UmmiYosh а обещала написать &gt;.&lt; попппаааа(\n",
              "108140                    всем добра ага и тебе добра URL  ...  Всем добра? — Ага и тебе добра) http://t.co/Ep...\n",
              "81854   USER значит родители скорее всего назовут свое...  ...  @hot_fact значит родители скорее всего назовут...\n",
              "34556                            q толстеешь ты зая a URL  ...  Q: Толстеешь ты, зая (  A: http://t.co/tigWKZx6QA\n",
              "19132   USER это она небось из женской солидарности ту...  ...  @ninethin это она небось из женской солидарнос...\n",
              "71439       USER даааа не позавидуешь ну хоть не помойка   ...  @switeTutt даааа не позавидуешь... Ну хоть не ...\n",
              "\n",
              "[10 rows x 3 columns]"
            ]
          },
          "metadata": {},
          "execution_count": 7
        }
      ]
    },
    {
      "cell_type": "code",
      "source": [
        "vocab = Counter()\n",
        "\n",
        "for text in all_tweets_data['clean_text']:\n",
        "    vocab.update(text.split())\n",
        "print('Всего уникальных токенов:', len(vocab))"
      ],
      "metadata": {
        "colab": {
          "base_uri": "https://localhost:8080/"
        },
        "id": "EESZhX_6SvXV",
        "outputId": "877b219e-9b11-47b9-c272-3754b8475332"
      },
      "execution_count": 8,
      "outputs": [
        {
          "output_type": "stream",
          "name": "stdout",
          "text": [
            "Всего уникальных токенов: 180374\n"
          ]
        }
      ]
    },
    {
      "cell_type": "code",
      "source": [
        "filtered_vocab = set()\n",
        "\n",
        "for word in vocab:\n",
        "    if vocab[word] > 1:\n",
        "        filtered_vocab.add(word)\n",
        "print('Уникальных слов, втретившихся больше 1 раза:', len(filtered_vocab))"
      ],
      "metadata": {
        "colab": {
          "base_uri": "https://localhost:8080/"
        },
        "id": "B6lOi9OVewIm",
        "outputId": "0515e85f-ad6d-42f1-f0fd-45dc438a748e"
      },
      "execution_count": 9,
      "outputs": [
        {
          "output_type": "stream",
          "name": "stdout",
          "text": [
            "Уникальных слов, втретившихся больше 1 раза: 77196\n"
          ]
        }
      ]
    },
    {
      "cell_type": "code",
      "source": [
        "word2id = {'PAD':0}\n",
        "\n",
        "for word in vocab:\n",
        "    word2id[word] = len(word2id)\n",
        "\n",
        "id2word = {i:word for word, i in word2id.items()}"
      ],
      "metadata": {
        "id": "3fNFu9lFe2fF"
      },
      "execution_count": 10,
      "outputs": []
    },
    {
      "cell_type": "markdown",
      "source": [
        "## Датасет"
      ],
      "metadata": {
        "id": "FnNvOVU5Z25r"
      }
    },
    {
      "cell_type": "code",
      "source": [
        "DEVICE = torch.device('cuda') if torch.cuda.is_available() else torch.device('cpu')"
      ],
      "metadata": {
        "id": "-ybx3o-kfFl8"
      },
      "execution_count": 11,
      "outputs": []
    },
    {
      "cell_type": "code",
      "source": [
        "class TweetsDataset(Dataset):\n",
        "\n",
        "    def __init__(self, dataset, word2id, DEVICE):\n",
        "        self.dataset = dataset['clean_text'].values\n",
        "        self.word2id = word2id\n",
        "        self.length = dataset.shape[0]\n",
        "        self.target = torch.Tensor(dataset['tone'].values)\n",
        "        self.device = DEVICE\n",
        "\n",
        "    def __len__(self):\n",
        "        return self.length\n",
        "\n",
        "    def __getitem__(self, index): \n",
        "        tokens = self.dataset[index].split()\n",
        "        ids = torch.LongTensor([self.word2id[token] for token in tokens if token in self.word2id])\n",
        "        y = [self.target[index]]\n",
        "        return ids, y\n",
        "\n",
        "    def collate_fn(self, batch):\n",
        "      ids, y = list(zip(*batch))\n",
        "      padded_ids = pad_sequence(ids, batch_first=True).to(self.device)\n",
        "      y = torch.Tensor(y).to(self.device)\n",
        "      return padded_ids, y"
      ],
      "metadata": {
        "id": "yZ_b__CIfI7W"
      },
      "execution_count": 12,
      "outputs": []
    },
    {
      "cell_type": "markdown",
      "source": [
        "## Модель 1"
      ],
      "metadata": {
        "id": "C8DP5h5naIHF"
      }
    },
    {
      "cell_type": "code",
      "source": [
        "train_dataset = TweetsDataset(train_data, word2id, DEVICE)\n",
        "train_sampler = RandomSampler(train_dataset)\n",
        "train_iterator = DataLoader(train_dataset, collate_fn = train_dataset.collate_fn, sampler=train_sampler, batch_size=1024)"
      ],
      "metadata": {
        "id": "isakRePYfLKz"
      },
      "execution_count": 13,
      "outputs": []
    },
    {
      "cell_type": "code",
      "source": [
        "val_dataset = TweetsDataset(val_data, word2id, DEVICE)\n",
        "val_sampler = SequentialSampler(val_dataset)\n",
        "val_iterator = DataLoader(val_dataset, collate_fn = val_dataset.collate_fn, sampler=val_sampler, batch_size=1024)"
      ],
      "metadata": {
        "id": "gGkcxVTJfdg0"
      },
      "execution_count": 14,
      "outputs": []
    },
    {
      "cell_type": "code",
      "source": [
        "fastt = FastText(all_tweets_data['clean_text'].tolist(), size=100, window=5, min_count=1)"
      ],
      "metadata": {
        "id": "IjHmBg0WfhoO"
      },
      "execution_count": 15,
      "outputs": []
    },
    {
      "cell_type": "code",
      "source": [
        "weights = np.zeros((len(word2id), 100))\n",
        "count = 0\n",
        "for word, i in word2id.items():\n",
        "    if word == 'PAD':\n",
        "        continue   \n",
        "    try:\n",
        "        weights[i] = fastt.wv[word]    \n",
        "    except KeyError:\n",
        "      count += 1\n",
        "      weights[i] = np.random.normal(0,0.1,100)"
      ],
      "metadata": {
        "id": "Hpc81e5lf5YT"
      },
      "execution_count": 16,
      "outputs": []
    },
    {
      "cell_type": "code",
      "source": [
        "class CNN(nn.Module):\n",
        "\n",
        "    def __init__(self, vocab_size, embedding_dim):\n",
        "        super().__init__()\n",
        "        self.embedding = nn.Embedding(vocab_size, embedding_dim)\n",
        "        self.embedding.from_pretrained(torch.tensor(weights), freeze=True)\n",
        "        self.bigrams = nn.Conv1d(in_channels=embedding_dim, out_channels=100, kernel_size=2, padding='same')\n",
        "        self.trigrams = nn.Conv1d(in_channels=embedding_dim, out_channels=80, kernel_size=3, padding='same')\n",
        "        self.pooling = nn.MaxPool1d(kernel_size=2, stride=2)\n",
        "        self.relu = nn.ReLU()\n",
        "        self.hidden = nn.Linear(in_features=180, out_features=1)\n",
        "        self.out = nn.Sigmoid()\n",
        "\n",
        "    def forward(self, word):\n",
        "        embedded = self.embedding(word)\n",
        "        embedded = embedded.transpose(1,2)\n",
        "        feature_map_bigrams = self.relu(self.bigrams(embedded))\n",
        "        feature_map_trigrams = self.relu(self.trigrams(embedded))\n",
        "\n",
        "        concat = torch.cat((feature_map_bigrams, feature_map_trigrams), 1)\n",
        "        pooling1 = feature_map_bigrams.max(2)[0] \n",
        "        pooling2 = feature_map_trigrams.max(2)[0]\n",
        "        concat = torch.cat((pooling1, pooling2), 1)\n",
        "\n",
        "        logits = self.hidden(concat) \n",
        "        logits = self.out(logits)      \n",
        "        return logits"
      ],
      "metadata": {
        "id": "E7_MFUK8f_H_"
      },
      "execution_count": 17,
      "outputs": []
    },
    {
      "cell_type": "code",
      "source": [
        "def train(model, iterator, optimizer, criterion):\n",
        "    \n",
        "    epoch_loss = 0\n",
        "    \n",
        "    model.train()\n",
        "\n",
        "    for i, (texts, ys) in enumerate(iterator):\n",
        "        optimizer.zero_grad()\n",
        "        preds = model(texts)\n",
        "        loss = criterion(preds, ys)  \n",
        "        loss.backward()\n",
        "        optimizer.step()\n",
        "        epoch_loss += loss.item()\n",
        "        \n",
        "        if not (i + 1) % int(len(iterator)/5):\n",
        "            print(f'Train loss: {epoch_loss/i}')      \n",
        "    return  epoch_loss / len(iterator)"
      ],
      "metadata": {
        "id": "VzYlo-_WgDl7"
      },
      "execution_count": 18,
      "outputs": []
    },
    {
      "cell_type": "code",
      "source": [
        "def evaluate(model, iterator, criterion):\n",
        "    \n",
        "    epoch_loss = 0\n",
        "    epoch_metric = 0\n",
        "    model.eval() \n",
        "\n",
        "    with torch.no_grad():\n",
        "        for i, (texts, ys) in enumerate(iterator):   \n",
        "            preds = model(texts)\n",
        "            loss = criterion(preds, ys)  \n",
        "            epoch_loss += loss.item()\n",
        "            batch_metric = f1(preds.round().long(), ys.long(), ignore_index=0)\n",
        "            epoch_metric += batch_metric\n",
        "\n",
        "            if not (i + 1) % int(len(iterator)/5):\n",
        "              print(f'Val loss: {epoch_loss/i}, Val metric: {epoch_metric/i}')\n",
        "        \n",
        "    return epoch_metric / len(iterator), epoch_loss / len(iterator)"
      ],
      "metadata": {
        "id": "MvRDIIJ4gHWp"
      },
      "execution_count": 19,
      "outputs": []
    },
    {
      "cell_type": "code",
      "source": [
        "model = CNN(len(word2id), 8)\n",
        "optimizer = optim.Adam(model.parameters(), lr=0.001)\n",
        "criterion = nn.BCELoss()\n",
        "\n",
        "model = model.to(DEVICE)\n",
        "criterion = criterion.to(DEVICE)"
      ],
      "metadata": {
        "id": "JC1LbrfzgLcy"
      },
      "execution_count": 20,
      "outputs": []
    },
    {
      "cell_type": "code",
      "source": [
        "losses = []\n",
        "val_losses = []\n",
        "f1s = []\n",
        "val_f1s = []\n",
        "\n",
        "for i in range(10):\n",
        "    print(f'\\nEpoch {i}')\n",
        "    print('Training...')\n",
        "    epoch_loss = train(model, train_iterator, optimizer, criterion)\n",
        "    losses.append(epoch_loss)\n",
        "    print('\\nEvaluating on train...')\n",
        "    f1_on_train,_ = evaluate(model, train_iterator, criterion)\n",
        "    f1s.append(f1_on_train)\n",
        "    print('\\nEvaluating on test...')\n",
        "    f1_on_test, epoch_loss_on_test = evaluate(model, val_iterator, criterion)\n",
        "    val_losses.append(epoch_loss_on_test)\n",
        "    val_f1s.append(f1_on_test)"
      ],
      "metadata": {
        "colab": {
          "base_uri": "https://localhost:8080/"
        },
        "id": "-GjAVow8gPP1",
        "outputId": "aa743567-326d-4202-f7d3-3faadeedce9b"
      },
      "execution_count": 21,
      "outputs": [
        {
          "output_type": "stream",
          "name": "stdout",
          "text": [
            "\n",
            "Epoch 0\n",
            "Training...\n"
          ]
        },
        {
          "output_type": "stream",
          "name": "stderr",
          "text": [
            "/usr/local/lib/python3.7/dist-packages/torch/nn/modules/conv.py:298: UserWarning: Using padding='same' with even kernel lengths and odd dilation may require a zero-padded copy of the input be created (Triggered internally at  ../aten/src/ATen/native/Convolution.cpp:647.)\n",
            "  self.padding, self.dilation, self.groups)\n"
          ]
        },
        {
          "output_type": "stream",
          "name": "stdout",
          "text": [
            "Train loss: 0.7148247220936943\n",
            "Train loss: 0.6976006860318391\n",
            "Train loss: 0.6882218758647258\n",
            "Train loss: 0.6808846271295341\n",
            "Train loss: 0.6746522523890967\n",
            "\n",
            "Evaluating on train...\n",
            "Val loss: 0.6601677747333751, Val metric: 0.6401820182800293\n",
            "Val loss: 0.6489690516306006, Val metric: 0.6317160725593567\n",
            "Val loss: 0.6458167622868831, Val metric: 0.629989743232727\n",
            "Val loss: 0.6438960390125247, Val metric: 0.6287928223609924\n",
            "Val loss: 0.6426812290460214, Val metric: 0.628437340259552\n",
            "\n",
            "Evaluating on test...\n",
            "Val loss: 0.7245387807488441, Val metric: 0.6984189748764038\n",
            "Val loss: 0.6790139499832603, Val metric: 0.6625226736068726\n",
            "Val loss: 0.6667623290648828, Val metric: 0.6442864537239075\n",
            "Val loss: 0.6610549824578421, Val metric: 0.6347607374191284\n",
            "Val loss: 0.6571895371783864, Val metric: 0.6305662393569946\n",
            "\n",
            "Epoch 1\n",
            "Training...\n",
            "Train loss: 0.6521405630251941\n",
            "Train loss: 0.6371407508850098\n",
            "Train loss: 0.6281039668963506\n",
            "Train loss: 0.6208858502854546\n",
            "Train loss: 0.6156787608546772\n",
            "\n",
            "Evaluating on train...\n",
            "Val loss: 0.5988462023875293, Val metric: 0.6965978741645813\n",
            "Val loss: 0.5905536154042119, Val metric: 0.6889781355857849\n",
            "Val loss: 0.5872033754220376, Val metric: 0.686053991317749\n",
            "Val loss: 0.5860826793334467, Val metric: 0.6845954060554504\n",
            "Val loss: 0.5852382255011591, Val metric: 0.6840177774429321\n",
            "\n",
            "Evaluating on test...\n",
            "Val loss: 0.6685306653380394, Val metric: 0.7495026588439941\n",
            "Val loss: 0.625173807144165, Val metric: 0.7106974720954895\n",
            "Val loss: 0.6150041726919321, Val metric: 0.6925120949745178\n",
            "Val loss: 0.6094505735806056, Val metric: 0.685880184173584\n",
            "Val loss: 0.6066620959476992, Val metric: 0.6818814873695374\n",
            "\n",
            "Epoch 2\n",
            "Training...\n",
            "Train loss: 0.5968069434165955\n",
            "Train loss: 0.5850135597629823\n",
            "Train loss: 0.5792798124826871\n",
            "Train loss: 0.5750513629947634\n",
            "Train loss: 0.5721041361490885\n",
            "\n",
            "Evaluating on train...\n",
            "Val loss: 0.5638424087973202, Val metric: 0.7468554377555847\n",
            "Val loss: 0.5565915850625522, Val metric: 0.7359194755554199\n",
            "Val loss: 0.5540185352930656, Val metric: 0.73288893699646\n",
            "Val loss: 0.5529830485796757, Val metric: 0.731492280960083\n",
            "Val loss: 0.5521300263788508, Val metric: 0.7304903864860535\n",
            "\n",
            "Evaluating on test...\n",
            "Val loss: 0.6411686688661575, Val metric: 0.7919408679008484\n",
            "Val loss: 0.6002646053538603, Val metric: 0.7519700527191162\n",
            "Val loss: 0.5908671319484711, Val metric: 0.7353617548942566\n",
            "Val loss: 0.5854389701570784, Val metric: 0.7289254665374756\n",
            "Val loss: 0.5834938369014047, Val metric: 0.7238889336585999\n",
            "\n",
            "Epoch 3\n",
            "Training...\n",
            "Train loss: 0.5626305955297807\n",
            "Train loss: 0.5530419159626615\n",
            "Train loss: 0.547296428336547\n",
            "Train loss: 0.544702380252399\n",
            "Train loss: 0.5411616402795945\n",
            "\n",
            "Evaluating on train...\n",
            "Val loss: 0.5331709744299159, Val metric: 0.7529443502426147\n",
            "Val loss: 0.5239224390707155, Val metric: 0.7425894737243652\n",
            "Val loss: 0.5198676752356383, Val metric: 0.7390060424804688\n",
            "Val loss: 0.5201345062513145, Val metric: 0.736027717590332\n",
            "Val loss: 0.521044512932328, Val metric: 0.7338573336601257\n",
            "\n",
            "Evaluating on test...\n",
            "Val loss: 0.6205214112997055, Val metric: 0.7822772264480591\n",
            "Val loss: 0.5797133726232192, Val metric: 0.744928240776062\n",
            "Val loss: 0.5702840525370377, Val metric: 0.7272886037826538\n",
            "Val loss: 0.5646888477461679, Val metric: 0.7209563851356506\n",
            "Val loss: 0.5630744966593656, Val metric: 0.7163618206977844\n",
            "\n",
            "Epoch 4\n",
            "Training...\n",
            "Train loss: 0.5310228440691444\n",
            "Train loss: 0.5237019066361414\n",
            "Train loss: 0.5198240947838013\n",
            "Train loss: 0.5157434653035171\n",
            "Train loss: 0.5145746287943302\n",
            "\n",
            "Evaluating on train...\n",
            "Val loss: 0.5101848402444054, Val metric: 0.7561764717102051\n",
            "Val loss: 0.5029179993746937, Val metric: 0.746945321559906\n",
            "Val loss: 0.5020340592242204, Val metric: 0.7414743900299072\n",
            "Val loss: 0.5012574455292105, Val metric: 0.7395786046981812\n",
            "Val loss: 0.5000032503371952, Val metric: 0.7387856841087341\n",
            "\n",
            "Evaluating on test...\n",
            "Val loss: 0.6113192811608315, Val metric: 0.7771371603012085\n",
            "Val loss: 0.5698175745851853, Val metric: 0.7422592639923096\n",
            "Val loss: 0.5602714304740612, Val metric: 0.7245102524757385\n",
            "Val loss: 0.5545023117746626, Val metric: 0.7181965708732605\n",
            "Val loss: 0.5529632310975682, Val metric: 0.7132627964019775\n",
            "\n",
            "Epoch 5\n",
            "Training...\n",
            "Train loss: 0.5074905604124069\n",
            "Train loss: 0.4988812393900277\n",
            "Train loss: 0.49452987055365855\n",
            "Train loss: 0.4941026844995485\n",
            "Train loss: 0.49203913479015743\n",
            "\n",
            "Evaluating on train...\n",
            "Val loss: 0.4850597784799688, Val metric: 0.7952926754951477\n",
            "Val loss: 0.4796090160591015, Val metric: 0.7845297455787659\n",
            "Val loss: 0.4776832518669275, Val metric: 0.7801272869110107\n",
            "Val loss: 0.4761011900661661, Val metric: 0.7787739038467407\n",
            "Val loss: 0.47552650567443894, Val metric: 0.77715003490448\n",
            "\n",
            "Evaluating on test...\n",
            "Val loss: 0.5946909263730049, Val metric: 0.8200366497039795\n",
            "Val loss: 0.5560768579735476, Val metric: 0.7794151902198792\n",
            "Val loss: 0.5474858054747949, Val metric: 0.7616511583328247\n",
            "Val loss: 0.5416890689304896, Val metric: 0.754806637763977\n",
            "Val loss: 0.5407203551043164, Val metric: 0.7491822838783264\n",
            "\n",
            "Epoch 6\n",
            "Training...\n",
            "Train loss: 0.4866601097233155\n",
            "Train loss: 0.4763848492200824\n",
            "Train loss: 0.4748462031667049\n",
            "Train loss: 0.4731191975607289\n",
            "Train loss: 0.47125327227444486\n",
            "\n",
            "Evaluating on train...\n",
            "Val loss: 0.4665401271160911, Val metric: 0.7979552149772644\n",
            "Val loss: 0.4585717951042065, Val metric: 0.7879312634468079\n",
            "Val loss: 0.4568093129648612, Val metric: 0.7841596603393555\n",
            "Val loss: 0.45641350874797904, Val metric: 0.7814207673072815\n",
            "Val loss: 0.4557367325171657, Val metric: 0.7804340720176697\n",
            "\n",
            "Evaluating on test...\n",
            "Val loss: 0.5883699953556061, Val metric: 0.8149872422218323\n",
            "Val loss: 0.5491298945511088, Val metric: 0.7730068564414978\n",
            "Val loss: 0.54061642403786, Val metric: 0.754788339138031\n",
            "Val loss: 0.5347646721771785, Val metric: 0.7485671639442444\n",
            "Val loss: 0.5338149544867602, Val metric: 0.7430359125137329\n",
            "\n",
            "Epoch 7\n",
            "Training...\n",
            "Train loss: 0.4621637051596361\n",
            "Train loss: 0.45679881045783777\n",
            "Train loss: 0.4556906037032604\n",
            "Train loss: 0.4536250411606521\n",
            "Train loss: 0.45221602642673187\n",
            "\n",
            "Evaluating on train...\n",
            "Val loss: 0.44468989968299866, Val metric: 0.8170504570007324\n",
            "Val loss: 0.43834336425947107, Val metric: 0.8057284355163574\n",
            "Val loss: 0.43640192970633507, Val metric: 0.8019310832023621\n",
            "Val loss: 0.4359138232769726, Val metric: 0.7994073629379272\n",
            "Val loss: 0.436089383630917, Val metric: 0.7974111437797546\n",
            "\n",
            "Evaluating on test...\n",
            "Val loss: 0.5817467570304871, Val metric: 0.828303337097168\n",
            "Val loss: 0.5429157158907723, Val metric: 0.7851674556732178\n",
            "Val loss: 0.5350380138708994, Val metric: 0.7660163640975952\n",
            "Val loss: 0.529294627053397, Val metric: 0.7596879005432129\n",
            "Val loss: 0.5285846902565523, Val metric: 0.7532601952552795\n",
            "\n",
            "Epoch 8\n",
            "Training...\n",
            "Train loss: 0.44318538202958946\n",
            "Train loss: 0.4358388686525649\n",
            "Train loss: 0.43586917937948155\n",
            "Train loss: 0.4341773868893548\n",
            "Train loss: 0.433804575567958\n",
            "\n",
            "Evaluating on train...\n",
            "Val loss: 0.43138304878683653, Val metric: 0.8242615461349487\n",
            "Val loss: 0.4236520373302957, Val metric: 0.8130553960800171\n",
            "Val loss: 0.4209450279863981, Val metric: 0.8092681169509888\n",
            "Val loss: 0.4197372804871566, Val metric: 0.8072343468666077\n",
            "Val loss: 0.4193769025391546, Val metric: 0.8060600757598877\n",
            "\n",
            "Evaluating on test...\n",
            "Val loss: 0.5791411623358727, Val metric: 0.8263469934463501\n",
            "Val loss: 0.5398726954179651, Val metric: 0.7829534411430359\n",
            "Val loss: 0.5321094542741776, Val metric: 0.7648992538452148\n",
            "Val loss: 0.5263436189719609, Val metric: 0.7584768533706665\n",
            "Val loss: 0.5254767137494954, Val metric: 0.7524945735931396\n",
            "\n",
            "Epoch 9\n",
            "Training...\n",
            "Train loss: 0.42394447414314046\n",
            "Train loss: 0.41934748058733734\n",
            "Train loss: 0.4183640626187508\n",
            "Train loss: 0.41741489056203007\n",
            "Train loss: 0.4168192525019591\n",
            "\n",
            "Evaluating on train...\n",
            "Val loss: 0.41471466246773214, Val metric: 0.8454262614250183\n",
            "Val loss: 0.4072025789730791, Val metric: 0.8336012363433838\n",
            "Val loss: 0.4044359117173232, Val metric: 0.8297596573829651\n",
            "Val loss: 0.4039342559927659, Val metric: 0.8279051184654236\n",
            "Val loss: 0.40264193816431637, Val metric: 0.8272897005081177\n",
            "\n",
            "Evaluating on test...\n",
            "Val loss: 0.5747049823403358, Val metric: 0.8483103513717651\n",
            "Val loss: 0.5370922211338492, Val metric: 0.8016485571861267\n",
            "Val loss: 0.5302033367065283, Val metric: 0.7840301990509033\n",
            "Val loss: 0.5244797170162201, Val metric: 0.7777677774429321\n",
            "Val loss: 0.5239187052304094, Val metric: 0.7715049386024475\n"
          ]
        }
      ]
    },
    {
      "cell_type": "code",
      "source": [
        "def loss_graph(losses, val_losses):\n",
        "    plt.plot(losses)\n",
        "    plt.plot(val_losses)\n",
        "    plt.title('BCE loss value')\n",
        "    plt.ylabel('BCE losses')\n",
        "    plt.xlabel('epochs')\n",
        "    plt.legend(['train', 'val'], loc='upper right')\n",
        "    plt.show()\n",
        "\n",
        "\n",
        "def f1_graph(f1s, val_f1s):\n",
        "    plt.plot(f1s)\n",
        "    plt.plot(val_f1s)\n",
        "    plt.title('f1 value')\n",
        "    plt.ylabel('f1 value')\n",
        "    plt.xlabel('epochs')\n",
        "    plt.legend(['train', 'val'], loc='upper right')\n",
        "    plt.show()"
      ],
      "metadata": {
        "id": "HrRSLLgmCM7x"
      },
      "execution_count": 22,
      "outputs": []
    },
    {
      "cell_type": "code",
      "source": [
        "loss_graph(losses, val_losses)\n",
        "f1_graph(f1s, val_f1s)"
      ],
      "metadata": {
        "colab": {
          "base_uri": "https://localhost:8080/",
          "height": 573
        },
        "id": "e9DZqmUknZFc",
        "outputId": "b05a1509-cd83-41c2-e630-db46f0831f90"
      },
      "execution_count": 23,
      "outputs": [
        {
          "output_type": "display_data",
          "data": {
            "image/png": "[encoded data removed]",
            "text/plain": [
              "<Figure size 432x288 with 1 Axes>"
            ]
          },
          "metadata": {
            "needs_background": "light"
          }
        },
        {
          "output_type": "display_data",
          "data": {
            "image/png": "[encoded data removed]",
            "text/plain": [
              "<Figure size 432x288 with 1 Axes>"
            ]
          },
          "metadata": {
            "needs_background": "light"
          }
        }
      ]
    },
    {
      "cell_type": "code",
      "source": [
        "def predict(model, iterator):\n",
        "    model.eval()\n",
        "    fp = []\n",
        "    fn = []\n",
        "    tp = [] \n",
        "    tn = []\n",
        "    with torch.no_grad():\n",
        "        for i, (texts, ys) in enumerate(iterator):   \n",
        "            preds = model(texts)\n",
        "            for pred, gold, text in zip(preds, ys, texts):\n",
        "              text = ' '.join([id2word[int(word)] for word in text if word !=0])\n",
        "              if round(pred.item()) > gold:\n",
        "                fp.append(text)\n",
        "              elif round(pred.item()) < gold:\n",
        "                fn.append(text)\n",
        "              elif round(pred.item()) == gold == 1:\n",
        "                tp.append(text)\n",
        "              elif round(pred.item()) == gold == 0:\n",
        "                tn.append(text)\n",
        "    return fp, fn, tp, tn"
      ],
      "metadata": {
        "id": "WeR0E00hnpW3"
      },
      "execution_count": 24,
      "outputs": []
    },
    {
      "cell_type": "code",
      "source": [
        "fp, fn, tp, tn = predict(model, val_iterator)"
      ],
      "metadata": {
        "id": "7Q3T-7TRntXz"
      },
      "execution_count": 25,
      "outputs": []
    },
    {
      "cell_type": "code",
      "source": [
        "def metrics(tp, tn, fn):\n",
        "    recall = len(tp)/(len(tp) + len(fn))\n",
        "    precision = len(tp)/(len(tp) + len(fp))\n",
        "    f_score = 2 * precision * recall / (precision + recall)\n",
        "    print('precision: ', precision)\n",
        "    print('recall: ', recall )\n",
        "    print('f_score: ', f_score)"
      ],
      "metadata": {
        "id": "BH15IAiLUv1X"
      },
      "execution_count": 26,
      "outputs": []
    },
    {
      "cell_type": "code",
      "source": [
        "metrics(tp, tn, fn)"
      ],
      "metadata": {
        "colab": {
          "base_uri": "https://localhost:8080/"
        },
        "id": "j-l9zGqHnyf8",
        "outputId": "47f3d8ff-ecc8-445c-cbaa-2fffbe1c4532"
      },
      "execution_count": 27,
      "outputs": [
        {
          "output_type": "stream",
          "name": "stdout",
          "text": [
            "precision:  0.7425888495873336\n",
            "recall:  0.768074912891986\n",
            "f_score:  0.7551168964631325\n"
          ]
        }
      ]
    },
    {
      "cell_type": "code",
      "source": [
        "print('fp :', len(fp))\n",
        "print('fn :', len(fn))\n",
        "print('tp :', len(tp))\n",
        "print('tn :', len(tn))"
      ],
      "metadata": {
        "colab": {
          "base_uri": "https://localhost:8080/"
        },
        "id": "hA7NGuKIb3Pv",
        "outputId": "878e8556-f9ec-4b98-e710-755cc8888bd3"
      },
      "execution_count": 28,
      "outputs": [
        {
          "output_type": "stream",
          "name": "stdout",
          "text": [
            "fp : 6113\n",
            "fn : 5325\n",
            "tp : 17635\n",
            "tn : 16294\n"
          ]
        }
      ]
    },
    {
      "cell_type": "code",
      "source": [
        "fp[:10]"
      ],
      "metadata": {
        "colab": {
          "base_uri": "https://localhost:8080/"
        },
        "id": "1699xJSmn5Qp",
        "outputId": "9f2ab49b-27ec-488e-f476-2bde78348b75"
      },
      "execution_count": 29,
      "outputs": [
        {
          "output_type": "execute_result",
          "data": {
            "text/plain": [
              "['спасибо насть ахахахахаха URL',\n",
              " 'USER ненене не ладно мне будет жопа дома тем более страх перед тем что отберут ноутбук у меня еще есть',\n",
              " 'rt USER завтра будет ужасный день но я надеюсь еще на хорошее',\n",
              " 'rt USER 6789 гет я посвящаю USER USER USER USER USER USER счастья вам с lt з',\n",
              " 'USER ага я так и прокомментировал про консультацию URL видимо у него не было сомнений в правоте печально',\n",
              " 'rt USER бл неужели это сексуально даже не смотря аиу я бы пересрал URL',\n",
              " 'rt USER USER ахахаха да',\n",
              " 'rt USER лучше бы люди имели привычку уходить сразу и навсегда чем отдаляться и делать вид что все хорошо',\n",
              " 'кать я бы очень хотел провести вечер и ночь также как и ты сейчас',\n",
              " 'USER б лн думала пошляешся з мною десь до 1']"
            ]
          },
          "metadata": {},
          "execution_count": 29
        }
      ]
    },
    {
      "cell_type": "code",
      "source": [
        "fn[:10]"
      ],
      "metadata": {
        "colab": {
          "base_uri": "https://localhost:8080/"
        },
        "id": "4YUUq5_goVGg",
        "outputId": "22a22741-1b69-4a11-ab0e-7443b432c052"
      },
      "execution_count": 30,
      "outputs": [
        {
          "output_type": "execute_result",
          "data": {
            "text/plain": [
              "['то чего я так старательно избегала но вроде получается не плохо work monday URL',\n",
              " 'USER просто я отдыхаю и мне смешно на музик бокс',\n",
              " 'наступает время для сна но не для меня URL',\n",
              " 'rt USER USER я в деда мороза верю больше чем во все эти 11 11 11 и т д но каждый сходит с ума по своему',\n",
              " 'шо то мне совсем не нрафки с буду пересматривать форсажик',\n",
              " 'сегодня был тяжелый день и сейчас я с нетерпением жду сна',\n",
              " 'USER надеюсь что ты не имеешь ввиду никого конкретно',\n",
              " 'rt USER USER не кури не постареешь',\n",
              " 'USER USER иос7 тоже кому то нравится а кому то нет',\n",
              " 'USER я хотела так написать но мне пафоса не хватило']"
            ]
          },
          "metadata": {},
          "execution_count": 30
        }
      ]
    },
    {
      "cell_type": "markdown",
      "source": [
        "Некоторые false positives как будто все-таки должны быть положительными - например, те в которых есть смех\", какие-то окрашенные слова, видимо пропускает (например - \"ужасный\", \"печально\" ). \n",
        "\n",
        "\n",
        "\n",
        "С false negatives тоже некоторые, кажется, неверно помечены: \"шо то мне совсем не нрафки с буду пересматривать форсажик\". Некоторые, вообще, на мой взгляд, неоднозначные - последние два, например. \n",
        "\n",
        "---\n",
        "\n"
      ],
      "metadata": {
        "id": "OvYIocbJoc3G"
      }
    },
    {
      "cell_type": "markdown",
      "source": [
        "## Модель 2"
      ],
      "metadata": {
        "id": "dmcFUcaqa5V2"
      }
    },
    {
      "cell_type": "code",
      "source": [
        "symb_vocab = Counter()\n",
        "\n",
        "for text in all_tweets_data['clean_text']:\n",
        "    for word in text:\n",
        "      symb_vocab.update(list(word))\n",
        "\n",
        "filtered_symb_vocab = set()\n",
        "\n",
        "for word in symb_vocab:\n",
        "    if symb_vocab[word] > 10:\n",
        "        filtered_symb_vocab.add(word)\n",
        "\n",
        "symbol2id = {'PAD':0}\n",
        "\n",
        "for symbol in filtered_symb_vocab:\n",
        "    symbol2id[symbol] = len(symbol2id)\n",
        "\n",
        "id2symbol = {i:symbol for symbol, i in symbol2id.items()}"
      ],
      "metadata": {
        "id": "vkz2DGbLAx8G"
      },
      "execution_count": 31,
      "outputs": []
    },
    {
      "cell_type": "markdown",
      "source": [
        "### Датасет"
      ],
      "metadata": {
        "id": "XjNDoeOybEii"
      }
    },
    {
      "cell_type": "code",
      "source": [
        "class WordSymbDataset(Dataset):\n",
        "\n",
        "    def __init__(self, dataset, word2id, symbol2id, DEVICE):\n",
        "        self.dataset = dataset['clean_text'].values\n",
        "        self.word2id = word2id\n",
        "        self.symbol2id = symbol2id\n",
        "        self.length = dataset.shape[0]\n",
        "        self.target = torch.Tensor(dataset['tone'].values)\n",
        "        self.device = DEVICE\n",
        "\n",
        "    def __len__(self):\n",
        "        return self.length\n",
        "\n",
        "    def __getitem__(self, index): \n",
        "        symbols = list(self.dataset[index])\n",
        "        symb_ids = torch.LongTensor([self.symbol2id[symbol] for symbol in symbols if symbol in self.symbol2id])\n",
        "        tokens = self.dataset[index].split()\n",
        "        word_ids = torch.LongTensor([self.word2id[token] for token in tokens if token in self.word2id])\n",
        "        y = [self.target[index]]\n",
        "        return word_ids, symb_ids, y\n",
        "\n",
        "    def collate_fn(self, batch):\n",
        "      word_ids, symb_ids, y = list(zip(*batch))\n",
        "      padded_words = pad_sequence(word_ids, batch_first=True).to(self.device)\n",
        "      padded_symbs = pad_sequence(symb_ids, batch_first=True).to(self.device)\n",
        "      y = torch.Tensor(y).to(self.device)\n",
        "      return padded_words, padded_symbs, y"
      ],
      "metadata": {
        "id": "yvSNApP6A3QH"
      },
      "execution_count": 32,
      "outputs": []
    },
    {
      "cell_type": "code",
      "source": [
        "train_dataset = WordSymbDataset(train_data, word2id, symbol2id, DEVICE)\n",
        "train_sampler = RandomSampler(train_dataset)\n",
        "train_iterator = DataLoader(train_dataset, collate_fn = train_dataset.collate_fn, sampler=train_sampler, batch_size=1024)\n"
      ],
      "metadata": {
        "id": "ixnBIwFTBGhd"
      },
      "execution_count": 33,
      "outputs": []
    },
    {
      "cell_type": "code",
      "source": [
        "val_dataset = WordSymbDataset(val_data, word2id, symbol2id, DEVICE)\n",
        "val_sampler = SequentialSampler(val_dataset)\n",
        "val_iterator = DataLoader(val_dataset, collate_fn = val_dataset.collate_fn, sampler=val_sampler, batch_size=1024)"
      ],
      "metadata": {
        "id": "mJ1D4KBvBULx"
      },
      "execution_count": 34,
      "outputs": []
    },
    {
      "cell_type": "markdown",
      "source": [
        "### Модель"
      ],
      "metadata": {
        "id": "TgjLM_tubMG2"
      }
    },
    {
      "cell_type": "code",
      "source": [
        "class WordSymbCNN(nn.Module):\n",
        "\n",
        "    def __init__(self, symb_vocab_size, embedding_dim, word_vocab_size):\n",
        "        super().__init__()\n",
        "\n",
        "        self.word_embedding = nn.Embedding(word_vocab_size, embedding_dim)\n",
        "        self.word_embedding.from_pretrained(torch.tensor(weights), freeze=True)\n",
        "        self.symb_embedding = nn.Embedding(symb_vocab_size, embedding_dim)\n",
        "        self.bigrams = nn.Conv1d(in_channels=embedding_dim, out_channels=100, kernel_size=2, padding='same')\n",
        "        self.trigrams = nn.Conv1d(in_channels=embedding_dim, out_channels=80, kernel_size=3, padding='same')\n",
        "        self.pooling = nn.MaxPool1d(kernel_size=2, stride=2)\n",
        "        self.word2hidden = nn.Linear(100, 10) \n",
        "        self.linear = nn.Linear(in_features=190, out_features=1)\n",
        "        self.relu = nn.ReLU()   \n",
        "        self.out = nn.Sigmoid()\n",
        "\n",
        "    def forward(self, words, symbs):\n",
        "\n",
        "        emb_symbs = self.symb_embedding(symbs).transpose(1,2)\n",
        "        emb_words = self.word_embedding(words)  \n",
        "        mean_emb_words = torch.mean(emb_words, dim=1)\n",
        "        \n",
        "        feature_map_bigrams = self.pooling(self.relu(self.bigrams(emb_symbs)))\n",
        "        feature_map_trigrams = self.pooling(self.relu(self.trigrams(emb_symbs)))\n",
        "\n",
        "        pooling1 = feature_map_bigrams.max(2)[0] \n",
        "        pooling2 = feature_map_trigrams.max(2)[0]\n",
        "        \n",
        "        concat = torch.cat((pooling1, pooling2), 1)\n",
        "\n",
        "        vec = self.word2hidden(mean_emb_words)\n",
        "\n",
        "        concat = torch.cat((concat, vec), 1)\n",
        "        logits = self.out(self.linear(concat))      \n",
        "        return logits"
      ],
      "metadata": {
        "id": "SOjk8VAiB7Kv"
      },
      "execution_count": 35,
      "outputs": []
    },
    {
      "cell_type": "code",
      "source": [
        "def train2(model, iterator, optimizer, criterion):\n",
        "    epoch_loss = 0\n",
        "\n",
        "    model.train()\n",
        "\n",
        "    for i, (words, symbs, ys) in enumerate(iterator): \n",
        "        optimizer.zero_grad()\n",
        "        preds = model(words, symbs)\n",
        "        loss = criterion(preds, ys) \n",
        "        loss.backward() \n",
        "        optimizer.step()\n",
        "        epoch_loss += loss.item()\n",
        "        if not (i + 1) % int(len(iterator)/5):\n",
        "            print(f'Train loss: {epoch_loss/i}')      \n",
        "    return  epoch_loss / len(iterator)"
      ],
      "metadata": {
        "id": "fyhgrSdOBh0z"
      },
      "execution_count": 36,
      "outputs": []
    },
    {
      "cell_type": "code",
      "source": [
        "def evaluate2(model, iterator, criterion):\n",
        "    epoch_loss = 0\n",
        "    epoch_metric = 0\n",
        "    model.eval() \n",
        "    with torch.no_grad():\n",
        "        for i, (words, symbs, ys) in enumerate(iterator):   \n",
        "            preds = model(words, symbs)\n",
        "            loss = criterion(preds, ys)\n",
        "            epoch_loss += loss.item()\n",
        "            batch_metric = f1(preds.round().long(), ys.long(), ignore_index=0)\n",
        "            epoch_metric += batch_metric\n",
        "\n",
        "            if not (i + 1) % int(len(iterator)/5):\n",
        "              print(f'Val loss: {epoch_loss/i}, Val metric: {epoch_metric/i}')\n",
        "        \n",
        "    return epoch_metric / len(iterator), epoch_loss / len(iterator)"
      ],
      "metadata": {
        "id": "5G2g_C5JBpzd"
      },
      "execution_count": 37,
      "outputs": []
    },
    {
      "cell_type": "code",
      "source": [
        "model = WordSymbCNN(len(symbol2id), 100, len(word2id))\n",
        "optimizer = optim.Adam(model.parameters(), lr=0.001)\n",
        "criterion = nn.BCELoss()\n",
        "\n",
        "model = model.to(DEVICE)\n",
        "criterion = criterion.to(DEVICE)"
      ],
      "metadata": {
        "id": "4gHCYbVeBuh9"
      },
      "execution_count": 38,
      "outputs": []
    },
    {
      "cell_type": "code",
      "source": [
        "losses = []\n",
        "val_losses = []\n",
        "f1s = []\n",
        "val_f1s = []\n",
        "\n",
        "for i in range(5):\n",
        "    print(f'\\nEpoch {i}')\n",
        "    print('Training...')\n",
        "    epoch_loss = train2(model, train_iterator, optimizer, criterion)\n",
        "    losses.append(epoch_loss)\n",
        "    print('\\nEvaluating on train...')\n",
        "    f1_on_train,_ = evaluate2(model, train_iterator, criterion)\n",
        "    f1s.append(f1_on_train)\n",
        "    print('\\nEvaluating on test...')\n",
        "    f1_on_test, epoch_loss_on_test = evaluate2(model, val_iterator, criterion)\n",
        "    val_losses.append(epoch_loss_on_test)\n",
        "    val_f1s.append(f1_on_test)"
      ],
      "metadata": {
        "colab": {
          "base_uri": "https://localhost:8080/"
        },
        "id": "PwH2UPA-B90h",
        "outputId": "43cb804e-6b94-440f-c99a-8ae2116a5cb4"
      },
      "execution_count": 39,
      "outputs": [
        {
          "output_type": "stream",
          "name": "stdout",
          "text": [
            "\n",
            "Epoch 0\n",
            "Training...\n",
            "Train loss: 0.6694027921732735\n",
            "Train loss: 0.6273615109747734\n",
            "Train loss: 0.6056324197695806\n",
            "Train loss: 0.5924317699542149\n",
            "Train loss: 0.5823892063793095\n",
            "\n",
            "Evaluating on train...\n",
            "Val loss: 0.5494102467508877, Val metric: 0.722758412361145\n",
            "Val loss: 0.5425648637439894, Val metric: 0.7118628025054932\n",
            "Val loss: 0.5399346517828795, Val metric: 0.7082595825195312\n",
            "Val loss: 0.5383773321728055, Val metric: 0.7066978216171265\n",
            "Val loss: 0.5371490638146456, Val metric: 0.7059562802314758\n",
            "\n",
            "Evaluating on test...\n",
            "Val loss: 0.6055614277720451, Val metric: 0.7888311147689819\n",
            "Val loss: 0.5669638619703405, Val metric: 0.7480679750442505\n",
            "Val loss: 0.5565053453812232, Val metric: 0.7313622832298279\n",
            "Val loss: 0.5499317816325596, Val metric: 0.7237275242805481\n",
            "Val loss: 0.5476777716116472, Val metric: 0.71879643201828\n",
            "\n",
            "Epoch 1\n",
            "Training...\n",
            "Train loss: 0.5475319150616141\n",
            "Train loss: 0.5390170579371245\n",
            "Train loss: 0.5314344012966523\n",
            "Train loss: 0.5264623392400124\n",
            "Train loss: 0.5221972170917467\n",
            "\n",
            "Evaluating on train...\n",
            "Val loss: 0.5051070881240508, Val metric: 0.7709779739379883\n",
            "Val loss: 0.49820042002028314, Val metric: 0.7618884444236755\n",
            "Val loss: 0.4952307463838504, Val metric: 0.758104681968689\n",
            "Val loss: 0.4948893065075223, Val metric: 0.756365954875946\n",
            "Val loss: 0.49327837889907006, Val metric: 0.7562187314033508\n",
            "\n",
            "Evaluating on test...\n",
            "Val loss: 0.5679445266723633, Val metric: 0.8274438381195068\n",
            "Val loss: 0.5316329580896041, Val metric: 0.7869172096252441\n",
            "Val loss: 0.5218187455947583, Val metric: 0.7711276412010193\n",
            "Val loss: 0.516060391494206, Val metric: 0.764216423034668\n",
            "Val loss: 0.5140614787285979, Val metric: 0.7597020864486694\n",
            "\n",
            "Epoch 2\n",
            "Training...\n",
            "Train loss: 0.4997975256513147\n",
            "Train loss: 0.48851767657459644\n",
            "Train loss: 0.4844157277391507\n",
            "Train loss: 0.48034859904282384\n",
            "Train loss: 0.4777923325697581\n",
            "\n",
            "Evaluating on train...\n",
            "Val loss: 0.4564907051184598, Val metric: 0.8103353381156921\n",
            "Val loss: 0.44871178874071094, Val metric: 0.7984179854393005\n",
            "Val loss: 0.44614649879244656, Val metric: 0.7943330407142639\n",
            "Val loss: 0.4444556583603509, Val metric: 0.7935810089111328\n",
            "Val loss: 0.44447881634207975, Val metric: 0.7910199165344238\n",
            "\n",
            "Evaluating on test...\n",
            "Val loss: 0.5420445762574673, Val metric: 0.8484352827072144\n",
            "Val loss: 0.5067578782053554, Val metric: 0.8040125370025635\n",
            "Val loss: 0.49734199390961575, Val metric: 0.7882443070411682\n",
            "Val loss: 0.4925251773425511, Val metric: 0.7812042236328125\n",
            "Val loss: 0.49108339710669086, Val metric: 0.7753809094429016\n",
            "\n",
            "Epoch 3\n",
            "Training...\n",
            "Train loss: 0.45288002403343425\n",
            "Train loss: 0.44403665350831073\n",
            "Train loss: 0.4400829985164679\n",
            "Train loss: 0.4375282982699305\n",
            "Train loss: 0.4349423299233119\n",
            "\n",
            "Evaluating on train...\n",
            "Val loss: 0.41385143031092253, Val metric: 0.8528268337249756\n",
            "Val loss: 0.4076250230056652, Val metric: 0.8391604423522949\n",
            "Val loss: 0.4076536102936818, Val metric: 0.833487868309021\n",
            "Val loss: 0.4074937523268967, Val metric: 0.8311768174171448\n",
            "Val loss: 0.4073127045713622, Val metric: 0.8302726149559021\n",
            "\n",
            "Evaluating on test...\n",
            "Val loss: 0.5349005721509457, Val metric: 0.878545880317688\n",
            "Val loss: 0.5014671017141903, Val metric: 0.831478476524353\n",
            "Val loss: 0.49307966232299805, Val metric: 0.8140519261360168\n",
            "Val loss: 0.4891410963875907, Val metric: 0.8058615326881409\n",
            "Val loss: 0.4880959357727658, Val metric: 0.8000724911689758\n",
            "\n",
            "Epoch 4\n",
            "Training...\n",
            "Train loss: 0.41104663031942706\n",
            "Train loss: 0.40668364797813306\n",
            "Train loss: 0.4033759399675406\n",
            "Train loss: 0.40071467722920207\n",
            "Train loss: 0.3984264849588789\n",
            "\n",
            "Evaluating on train...\n",
            "Val loss: 0.37874094090040994, Val metric: 0.8600576519966125\n",
            "Val loss: 0.37241268978602643, Val metric: 0.8473172187805176\n",
            "Val loss: 0.3720488172884171, Val metric: 0.8422572016716003\n",
            "Val loss: 0.3706957346243824, Val metric: 0.8400841951370239\n",
            "Val loss: 0.37036501984486636, Val metric: 0.8386464715003967\n",
            "\n",
            "Evaluating on test...\n",
            "Val loss: 0.5314081832766533, Val metric: 0.861250638961792\n",
            "Val loss: 0.49751944051069374, Val metric: 0.8142973184585571\n",
            "Val loss: 0.48877187875600964, Val metric: 0.7992551326751709\n",
            "Val loss: 0.4850204484803336, Val metric: 0.7916173338890076\n",
            "Val loss: 0.4847042736682025, Val metric: 0.784043550491333\n"
          ]
        }
      ]
    },
    {
      "cell_type": "code",
      "source": [
        "loss_graph(losses, val_losses)\n",
        "f1_graph(f1s, val_f1s)"
      ],
      "metadata": {
        "colab": {
          "base_uri": "https://localhost:8080/",
          "height": 573
        },
        "id": "nOCMzKfiCRFx",
        "outputId": "8c984f4e-7e28-4573-e12e-46898eb676d1"
      },
      "execution_count": 40,
      "outputs": [
        {
          "output_type": "display_data",
          "data": {
            "image/png": "[encoded data removed]",
            "text/plain": [
              "<Figure size 432x288 with 1 Axes>"
            ]
          },
          "metadata": {
            "needs_background": "light"
          }
        },
        {
          "output_type": "display_data",
          "data": {
            "image/png": "[encoded data removed]",
            "text/plain": [
              "<Figure size 432x288 with 1 Axes>"
            ]
          },
          "metadata": {
            "needs_background": "light"
          }
        }
      ]
    },
    {
      "cell_type": "code",
      "source": [
        "def predict_2(model, iterator):\n",
        "    model.eval()\n",
        "    fp = []\n",
        "    fn = []\n",
        "    tp = [] \n",
        "    tn = []\n",
        "    with torch.no_grad():\n",
        "        for i, (words, symbs, ys) in enumerate(iterator):  \n",
        "            preds = model(words, symbs)  \n",
        "            for pred, gold, text in zip(preds, ys, words):\n",
        "              text = ' '.join([id2word[int(word)] for word in text if word !=0])\n",
        "              if round(pred.item()) > gold:\n",
        "                fp.append(text)\n",
        "              elif round(pred.item()) < gold:\n",
        "                fn.append(text)\n",
        "              elif round(pred.item()) == gold == 1:\n",
        "                tp.append(text)\n",
        "              elif round(pred.item()) == gold == 0:\n",
        "                tn.append(text)\n",
        "    return fp, fn, tp, tn"
      ],
      "metadata": {
        "id": "PrYcdTuzCTd-"
      },
      "execution_count": 41,
      "outputs": []
    },
    {
      "cell_type": "code",
      "source": [
        "fp, fn, tp, tn = predict_2(model, val_iterator)"
      ],
      "metadata": {
        "id": "kXSDhlr2CXQD"
      },
      "execution_count": 42,
      "outputs": []
    },
    {
      "cell_type": "code",
      "source": [
        "print('fp :', len(fp))\n",
        "print('fn :', len(fn))\n",
        "print('tp :', len(tp))\n",
        "print('tn :', len(tn))"
      ],
      "metadata": {
        "colab": {
          "base_uri": "https://localhost:8080/"
        },
        "id": "5HW3DqzUT1m5",
        "outputId": "7d6ee9b8-254f-42c3-b7c6-7c8b16c82bb0"
      },
      "execution_count": 43,
      "outputs": [
        {
          "output_type": "stream",
          "name": "stdout",
          "text": [
            "fp : 4210\n",
            "fn : 6041\n",
            "tp : 16919\n",
            "tn : 18197\n"
          ]
        }
      ]
    },
    {
      "cell_type": "code",
      "source": [
        "metrics(tp, tn, fn)"
      ],
      "metadata": {
        "colab": {
          "base_uri": "https://localhost:8080/"
        },
        "id": "qLegWTwxVVO0",
        "outputId": "d29106ba-dacb-4586-bcef-c1193e6a37fd"
      },
      "execution_count": 44,
      "outputs": [
        {
          "output_type": "stream",
          "name": "stdout",
          "text": [
            "precision:  0.8007477874012021\n",
            "recall:  0.7368902439024391\n",
            "f_score:  0.7674930254712059\n"
          ]
        }
      ]
    },
    {
      "cell_type": "code",
      "source": [
        "fp[:10]"
      ],
      "metadata": {
        "colab": {
          "base_uri": "https://localhost:8080/"
        },
        "id": "1wfG3fbWDiHG",
        "outputId": "0cc3f5fa-18b2-4735-fd84-edc6e952dccd"
      },
      "execution_count": 45,
      "outputs": [
        {
          "output_type": "execute_result",
          "data": {
            "text/plain": [
              "['спасибо насть ахахахахаха URL',\n",
              " 'USER ненене не ладно мне будет жопа дома тем более страх перед тем что отберут ноутбук у меня еще есть',\n",
              " 'rt USER 6789 гет я посвящаю USER USER USER USER USER USER счастья вам с lt з',\n",
              " 'никто не хочет кататься на коньках сама решила что лучше кататься на ватрушке и дима сверху',\n",
              " 'rt USER USER ахахаха да',\n",
              " 'rt USER лучше бы люди имели привычку уходить сразу и навсегда чем отдаляться и делать вид что все хорошо',\n",
              " 'USER пардон все пропустила кажется и хто у нас дама',\n",
              " 'кать я бы очень хотел провести вечер и ночь также как и ты сейчас',\n",
              " 'USER б лн думала пошляешся з мною десь до 1',\n",
              " 'USER вот всегда здесь так в самый интересный момент произносится фраза это не для твиттера']"
            ]
          },
          "metadata": {},
          "execution_count": 45
        }
      ]
    },
    {
      "cell_type": "code",
      "source": [
        "fn[:10]"
      ],
      "metadata": {
        "colab": {
          "base_uri": "https://localhost:8080/"
        },
        "id": "cpWEnE2yDlYU",
        "outputId": "97a29c91-43da-4bae-cb96-8c1ea7db337c"
      },
      "execution_count": 46,
      "outputs": [
        {
          "output_type": "execute_result",
          "data": {
            "text/plain": [
              "['USER на одного друга теперь больше да мне везет сегодня я кстати ян но это не мое имя просто оно безобидное',\n",
              " 'несмотря на пробки мы все равно попали на экскурсии все по плану',\n",
              " 'то чего я так старательно избегала но вроде получается не плохо work monday URL',\n",
              " 'USER хотелось бы так думать а это у тебя на нач сектора аттестация',\n",
              " 'наступает время для сна но не для меня URL',\n",
              " 'rt USER USER я в деда мороза верю больше чем во все эти 11 11 11 и т д но каждый сходит с ума по своему',\n",
              " 'шо то мне совсем не нрафки с буду пересматривать форсажик',\n",
              " 'сегодня был тяжелый день и сейчас я с нетерпением жду сна',\n",
              " 'USER почему рассказать о своих делах сразу жаловаться все хорошо с',\n",
              " 'rt USER USER не кури не постареешь']"
            ]
          },
          "metadata": {},
          "execution_count": 46
        }
      ]
    },
    {
      "cell_type": "markdown",
      "source": [
        "Модель с двумя входами, кажется, немного лучше"
      ],
      "metadata": {
        "id": "OWq_dgegLYVt"
      }
    },
    {
      "cell_type": "markdown",
      "source": [
        "## Улучшенная модель 1\n",
        "Оставим в тексте пунктуацию, превратим последовательности скобок в смайлы и добавим дропаут"
      ],
      "metadata": {
        "id": "yzuiiGivaVvx"
      }
    },
    {
      "cell_type": "code",
      "source": [
        "def lighter_preprocess(text):\n",
        "    text = text.lower().replace(\"ё\", \"е\")\n",
        "    text = re.sub('((www\\.[^\\s]+)|(https?://[^\\s]+))', 'URL', text)\n",
        "    text = re.sub('@[^\\s]+', 'USER', text)\n",
        "    text = re.sub(' +', ' ', text)\n",
        "    text = re.sub('(\\)+?)',' :)', text)\n",
        "    text = re.sub('(\\(+?)',' :(', text)\n",
        "    return text"
      ],
      "metadata": {
        "id": "37R9IjV1dpoe"
      },
      "execution_count": 74,
      "outputs": []
    },
    {
      "cell_type": "code",
      "source": [
        "all_tweets_data['clean_text'] = all_tweets_data['text'].apply(lighter_preprocess)"
      ],
      "metadata": {
        "id": "sq0tGAk4fZpZ"
      },
      "execution_count": 75,
      "outputs": []
    },
    {
      "cell_type": "code",
      "source": [
        "train_data, val_data = train_test_split(all_tweets_data, test_size=0.2)"
      ],
      "metadata": {
        "id": "8fihhvhuAUwB"
      },
      "execution_count": 76,
      "outputs": []
    },
    {
      "cell_type": "code",
      "source": [
        "vocab = Counter()\n",
        "for text in all_tweets_data['clean_text']:\n",
        "    vocab.update(text.split())\n",
        "for word in vocab:\n",
        "    if vocab[word] > 1:\n",
        "        filtered_vocab.add(word)\n",
        "\n",
        "word2id = {'PAD':0}\n",
        "\n",
        "for word in filtered_vocab:\n",
        "    word2id[word] = len(word2id)\n",
        "    \n",
        "id2word = {i:word for word, i in word2id.items()}"
      ],
      "metadata": {
        "id": "aCwvICDTcID_"
      },
      "execution_count": 77,
      "outputs": []
    },
    {
      "cell_type": "code",
      "source": [
        "class BetterCNN(nn.Module):\n",
        "    def __init__(self, vocab_size, embedding_dim):\n",
        "        super().__init__()\n",
        "        self.embedding = nn.Embedding(vocab_size, embedding_dim)\n",
        "        self.embedding.from_pretrained(torch.tensor(weights), freeze=True)\n",
        "        self.bigrams = nn.Conv1d(in_channels=embedding_dim, out_channels=100, kernel_size=2, padding='same')\n",
        "        self.trigrams = nn.Conv1d(in_channels=embedding_dim, out_channels=80, kernel_size=3, padding='same')\n",
        "        self.pooling = nn.MaxPool1d(kernel_size=2, stride=2)\n",
        "        self.relu = nn.ReLU()\n",
        "        self.dropout = nn.Dropout(p=0.5)\n",
        "        self.hidden = nn.Linear(in_features=180, out_features=1)\n",
        "        self.out = nn.Sigmoid()\n",
        "\n",
        "    def forward(self, word):\n",
        "        embedded = self.embedding(word)\n",
        "        embedded = embedded.transpose(1,2)\n",
        "        feature_map_bigrams = self.dropout(self.relu(self.bigrams(embedded)))\n",
        "        feature_map_trigrams = self.dropout(self.relu(self.trigrams(embedded)))\n",
        "\n",
        "        concat = torch.cat((feature_map_bigrams, feature_map_trigrams), 1)\n",
        "        pooling1 = feature_map_bigrams.max(2)[0] \n",
        "        pooling2 = feature_map_trigrams.max(2)[0]\n",
        "        concat = torch.cat((pooling1, pooling2), 1)\n",
        "\n",
        "        logits = self.dropout(self.hidden(concat)) \n",
        "        logits = self.out(logits)      \n",
        "        return logits"
      ],
      "metadata": {
        "id": "petmRMjXo-OY"
      },
      "execution_count": 51,
      "outputs": []
    },
    {
      "cell_type": "code",
      "source": [
        ""
      ],
      "metadata": {
        "id": "e_dvzubUi53P"
      },
      "execution_count": null,
      "outputs": []
    },
    {
      "cell_type": "code",
      "source": [
        "train_dataset = TweetsDataset(train_data, word2id, DEVICE)\n",
        "train_sampler = RandomSampler(train_dataset)\n",
        "train_iterator = DataLoader(train_dataset, collate_fn = train_dataset.collate_fn, sampler=train_sampler, batch_size=1024)"
      ],
      "metadata": {
        "id": "7o4XHRMpi6KI"
      },
      "execution_count": 79,
      "outputs": []
    },
    {
      "cell_type": "code",
      "source": [
        "val_dataset = TweetsDataset(val_data, word2id, DEVICE)\n",
        "val_sampler = SequentialSampler(val_dataset)\n",
        "val_iterator = DataLoader(val_dataset, collate_fn = val_dataset.collate_fn, sampler=val_sampler, batch_size=1024)"
      ],
      "metadata": {
        "id": "iM_lqi0Li6KI"
      },
      "execution_count": 81,
      "outputs": []
    },
    {
      "cell_type": "code",
      "source": [
        "model = BetterCNN(len(word2id), 10)\n",
        "optimizer = optim.Adam(model.parameters(), lr=0.001, weight_decay=1e-4)\n",
        "criterion = nn.BCELoss()\n",
        "\n",
        "model = model.to(DEVICE)\n",
        "criterion = criterion.to(DEVICE)"
      ],
      "metadata": {
        "id": "QQ0lUJqN79up"
      },
      "execution_count": 82,
      "outputs": []
    },
    {
      "cell_type": "code",
      "source": [
        "losses = []\n",
        "val_losses = []\n",
        "f1s = []\n",
        "val_f1s = []\n",
        "\n",
        "for i in range(5):\n",
        "    print(f'\\nEpoch {i}')\n",
        "    print('Training...')\n",
        "    epoch_loss = train(model, train_iterator, optimizer, criterion)\n",
        "    losses.append(epoch_loss)\n",
        "    print('\\nEvaluating on train...')\n",
        "    f1_on_train,_ = evaluate(model, train_iterator, criterion)\n",
        "    f1s.append(f1_on_train)\n",
        "    print('\\nEvaluating on test...')\n",
        "    f1_on_test, epoch_loss_on_test = evaluate(model, val_iterator, criterion)\n",
        "    val_losses.append(epoch_loss_on_test)\n",
        "    val_f1s.append(f1_on_test)"
      ],
      "metadata": {
        "colab": {
          "base_uri": "https://localhost:8080/"
        },
        "id": "feL9DQeZ_E-H",
        "outputId": "a319d876-5ba9-46ba-e46d-865119b8a127"
      },
      "execution_count": 83,
      "outputs": [
        {
          "output_type": "stream",
          "name": "stdout",
          "text": [
            "\n",
            "Epoch 0\n",
            "Training...\n",
            "Train loss: 0.6867709948736078\n",
            "Train loss: 0.5957889712375143\n",
            "Train loss: 0.550315826271589\n",
            "Train loss: 0.5202435939003238\n",
            "Train loss: 0.499893334747731\n",
            "\n",
            "Evaluating on train...\n",
            "Val loss: 0.27196017871884737, Val metric: 0.9784131646156311\n",
            "Val loss: 0.26778250803118164, Val metric: 0.9638700485229492\n",
            "Val loss: 0.26636611584287423, Val metric: 0.9595323801040649\n",
            "Val loss: 0.2655200973260317, Val metric: 0.957162082195282\n",
            "Val loss: 0.2653056297494077, Val metric: 0.9556171894073486\n",
            "\n",
            "Evaluating on test...\n",
            "Val loss: 0.2931947074830532, Val metric: 1.0736322402954102\n",
            "Val loss: 0.2777574623332304, Val metric: 1.009211778640747\n",
            "Val loss: 0.27188147948338437, Val metric: 0.9892954230308533\n",
            "Val loss: 0.2702282113688333, Val metric: 0.9789024591445923\n",
            "Val loss: 0.26836882599375467, Val metric: 0.9734342694282532\n",
            "\n",
            "Epoch 1\n",
            "Training...\n",
            "Train loss: 0.4198850778972401\n",
            "Train loss: 0.408334840035093\n",
            "Train loss: 0.4037459690410357\n",
            "Train loss: 0.40025744828388843\n",
            "Train loss: 0.3971419570774868\n",
            "\n",
            "Evaluating on train...\n",
            "Val loss: 0.15568418537869172, Val metric: 0.9952324032783508\n",
            "Val loss: 0.1540653571702432, Val metric: 0.9806340336799622\n",
            "Val loss: 0.15299682720349386, Val metric: 0.9759454131126404\n",
            "Val loss: 0.15238881443473076, Val metric: 0.9740040898323059\n",
            "Val loss: 0.1517138084632227, Val metric: 0.9729218482971191\n",
            "\n",
            "Evaluating on test...\n",
            "Val loss: 0.16499535739421844, Val metric: 1.093331217765808\n",
            "Val loss: 0.1581216095124974, Val metric: 1.0257983207702637\n",
            "Val loss: 0.15461731128967726, Val metric: 1.0060679912567139\n",
            "Val loss: 0.1541446396282741, Val metric: 0.9955623149871826\n",
            "Val loss: 0.15300291302529248, Val metric: 0.9903602004051208\n",
            "\n",
            "Epoch 2\n",
            "Training...\n",
            "Train loss: 0.3906926486422034\n",
            "Train loss: 0.3851943538672682\n",
            "Train loss: 0.3814037728768129\n",
            "Train loss: 0.37962661501315\n",
            "Train loss: 0.3779666648171414\n",
            "\n",
            "Evaluating on train...\n",
            "Val loss: 0.11099127526668941, Val metric: 1.0059038400650024\n",
            "Val loss: 0.11008653563001881, Val metric: 0.9911366105079651\n",
            "Val loss: 0.1094240891532256, Val metric: 0.9862948656082153\n",
            "Val loss: 0.10932102124039218, Val metric: 0.9835533499717712\n",
            "Val loss: 0.10918563972601945, Val metric: 0.9821491241455078\n",
            "\n",
            "Evaluating on test...\n",
            "Val loss: 0.11757840309292078, Val metric: 1.1022683382034302\n",
            "Val loss: 0.11356946694500306, Val metric: 1.0343713760375977\n",
            "Val loss: 0.11102279447592221, Val metric: 1.0151854753494263\n",
            "Val loss: 0.11087954980986459, Val metric: 1.0045688152313232\n",
            "Val loss: 0.10994725606658241, Val metric: 0.9991378784179688\n",
            "\n",
            "Epoch 3\n",
            "Training...\n",
            "Train loss: 0.38579651888679056\n",
            "Train loss: 0.37992644266805786\n",
            "Train loss: 0.37748292231789005\n",
            "Train loss: 0.37659383377582906\n",
            "Train loss: 0.37564177622740297\n",
            "\n",
            "Evaluating on train...\n",
            "Val loss: 0.09348852559924126, Val metric: 1.0071630477905273\n",
            "Val loss: 0.09245982604182285, Val metric: 0.9925662279129028\n",
            "Val loss: 0.09167742614562695, Val metric: 0.9879079461097717\n",
            "Val loss: 0.09157867311573714, Val metric: 0.9855806827545166\n",
            "Val loss: 0.0911773590949075, Val metric: 0.9844430685043335\n",
            "\n",
            "Evaluating on test...\n",
            "Val loss: 0.09764647297561169, Val metric: 1.1050491333007812\n",
            "Val loss: 0.09476587307803772, Val metric: 1.0372182130813599\n",
            "Val loss: 0.09263529800451718, Val metric: 1.017443060874939\n",
            "Val loss: 0.09266454705170223, Val metric: 1.0067909955978394\n",
            "Val loss: 0.09190124747428027, Val metric: 1.0014369487762451\n",
            "\n",
            "Epoch 4\n",
            "Training...\n",
            "Train loss: 0.38164059817790985\n",
            "Train loss: 0.37497484899949335\n",
            "Train loss: 0.373226346877905\n",
            "Train loss: 0.3717919667418912\n",
            "Train loss: 0.37166994638826656\n",
            "\n",
            "Evaluating on train...\n",
            "Val loss: 0.08200088318656473, Val metric: 1.0098843574523926\n",
            "Val loss: 0.08040328064690465, Val metric: 0.9957107305526733\n",
            "Val loss: 0.08000115756518565, Val metric: 0.9909365773200989\n",
            "Val loss: 0.0798271967352723, Val metric: 0.9885080456733704\n",
            "Val loss: 0.07952877729274761, Val metric: 0.9869446158409119\n",
            "\n",
            "Evaluating on test...\n",
            "Val loss: 0.08473656792193651, Val metric: 1.1059678792953491\n",
            "Val loss: 0.08259347344146055, Val metric: 1.0393975973129272\n",
            "Val loss: 0.08079581936964622, Val metric: 1.0194354057312012\n",
            "Val loss: 0.08081426726920264, Val metric: 1.0090879201889038\n",
            "Val loss: 0.08006511933424255, Val metric: 1.0039129257202148\n"
          ]
        }
      ]
    },
    {
      "cell_type": "code",
      "source": [
        "loss_graph(losses, val_losses)\n",
        "f1_graph(f1s, val_f1s)"
      ],
      "metadata": {
        "colab": {
          "base_uri": "https://localhost:8080/",
          "height": 573
        },
        "id": "h4NK5l8nAMqN",
        "outputId": "211e22c5-39f1-4612-f7aa-c2b4b6c7ceac"
      },
      "execution_count": 84,
      "outputs": [
        {
          "output_type": "display_data",
          "data": {
            "image/png": "[encoded data removed]",
            "text/plain": [
              "<Figure size 432x288 with 1 Axes>"
            ]
          },
          "metadata": {
            "needs_background": "light"
          }
        },
        {
          "output_type": "display_data",
          "data": {
            "image/png": "[encoded data removed]",
            "text/plain": [
              "<Figure size 432x288 with 1 Axes>"
            ]
          },
          "metadata": {
            "needs_background": "light"
          }
        }
      ]
    },
    {
      "cell_type": "code",
      "source": [
        "fp, fn, tp, tn = predict(model, val_iterator)"
      ],
      "metadata": {
        "id": "LNmyfCztAXUg"
      },
      "execution_count": 85,
      "outputs": []
    },
    {
      "cell_type": "code",
      "source": [
        "metrics(tp, tn, fn)"
      ],
      "metadata": {
        "colab": {
          "base_uri": "https://localhost:8080/"
        },
        "id": "k890YtXjAbB8",
        "outputId": "64e44c9e-bdb3-4702-c3af-b56663d0eef4"
      },
      "execution_count": 86,
      "outputs": [
        {
          "output_type": "stream",
          "name": "stdout",
          "text": [
            "precision:  0.9704498240556239\n",
            "recall:  0.9927570802793078\n",
            "f_score:  0.9814767172626705\n"
          ]
        }
      ]
    },
    {
      "cell_type": "code",
      "source": [
        "print('fp :', len(fp))\n",
        "print('fn :', len(fn))\n",
        "print('tp :', len(tp))\n",
        "print('tn :', len(tn))"
      ],
      "metadata": {
        "colab": {
          "base_uri": "https://localhost:8080/"
        },
        "id": "18-G-QTwb0HG",
        "outputId": "25381868-03cf-4800-b3fc-8721e080b923"
      },
      "execution_count": 87,
      "outputs": [
        {
          "output_type": "stream",
          "name": "stdout",
          "text": [
            "fp : 697\n",
            "fn : 167\n",
            "tp : 22890\n",
            "tn : 21613\n"
          ]
        }
      ]
    },
    {
      "cell_type": "code",
      "source": [
        "fp[:10]"
      ],
      "metadata": {
        "colab": {
          "base_uri": "https://localhost:8080/"
        },
        "id": "EcazU_E7-AzD",
        "outputId": "0020fccb-e776-49c9-b541-5266d70eaa65"
      },
      "execution_count": 88,
      "outputs": [
        {
          "output_type": "execute_result",
          "data": {
            "text/plain": [
              "['USER сайн уу, хүүхдүүд сайн уу',\n",
              " 'rt USER я ржал как мудак когда смотрел первый раз URL',\n",
              " 'так плохо было с завтра не дадут в тот раз: :(если что ире хоть одной в больнице не скучно будет ахах',\n",
              " 'никаких планов на новый год,вообще ничего не',\n",
              " 'посадили с бля от него воняет',\n",
              " 'USER USER USER я не знаю почему мне так URL',\n",
              " 'rt USER ассоциация с юном USER URL',\n",
              " 'USER да и люди там представляют нашу вселенную',\n",
              " '\"где бы ни работать, лишь бы не работать\" : :(// URL',\n",
              " 'вот это у меня сейчас был приступ боли аж заревела: в мире существуют таблетки']"
            ]
          },
          "metadata": {},
          "execution_count": 88
        }
      ]
    },
    {
      "cell_type": "code",
      "source": [
        "fn[:10]"
      ],
      "metadata": {
        "colab": {
          "base_uri": "https://localhost:8080/"
        },
        "id": "ejgWP20T-BKL",
        "outputId": "a310775b-feff-42ad-b61b-9cf0629c2304"
      },
      "execution_count": 89,
      "outputs": [
        {
          "output_type": "execute_result",
          "data": {
            "text/plain": [
              "['USER красава , поздравляю :* я знала , что у тебя все получится!',\n",
              " 'USER ихих эй чувак отлично проведи эту ночь:*',\n",
              " 'rt USER #хочупровестиновогоднююночьвместес USER USER USER USER USER USER было бы',\n",
              " 'меня ян пометил :)0 :)0 :)0 USER URL',\n",
              " 'rt USER \"в было удобнее играть с мне вязала варежки с отдельным указательным пальцем\"',\n",
              " 'USER да хорошо там и встретимся!',\n",
              " 'USER можно желание загадывать с 11 и до 14 минут его загадывать :)вот и попадешь в точку',\n",
              " 'rt USER USER а у тебя? что',\n",
              " 'USER ты во-первых, нахрена тебе худеть, во-вторых зачем худеть так?!',\n",
              " 'USER USER']"
            ]
          },
          "metadata": {},
          "execution_count": 89
        }
      ]
    },
    {
      "cell_type": "markdown",
      "source": [
        "Модель работает значительно лучше, полагаю, это прежде всего из-за  наличия смайликов. Некоторые ошибки, кажется, на самом деле ошибки разметки, хотя есть и честные ошибки, которые непонятно откуда взялись (твиты в фп с явно окрашенными словами - \"плохо\", \"заревела\", в фн - \"красава\", \"хорошо\" ) Возможно, помогла бы лемматизация? - всякие \"плакать\", \"реветь\" и производные было бы легче выделить."
      ],
      "metadata": {
        "id": "69V1X6VSTwSr"
      }
    },
    {
      "cell_type": "markdown",
      "source": [
        "## Улучшенная модель 2\n"
      ],
      "metadata": {
        "id": "O5hQYWVLboVo"
      }
    },
    {
      "cell_type": "code",
      "source": [
        "\n",
        "symb_vocab = Counter()\n",
        "\n",
        "for text in all_tweets_data['clean_text']:\n",
        "    for word in text:\n",
        "      symb_vocab.update(list(word))\n",
        "\n",
        "filtered_symb_vocab = set()\n",
        "\n",
        "for symbol in symb_vocab:\n",
        "    if symb_vocab[symbol] > 5:\n",
        "        filtered_symb_vocab.add(symbol)\n",
        "\n",
        "symbol2id = {'PAD':0}\n",
        "\n",
        "for symbol in filtered_symb_vocab:\n",
        "    symbol2id[symbol] = len(symbol2id)\n",
        "\n",
        "id2symbol = {i:symbol for symbol, i in symbol2id.items()}"
      ],
      "metadata": {
        "id": "RbI3L76Xg6B3"
      },
      "execution_count": 100,
      "outputs": []
    },
    {
      "cell_type": "code",
      "source": [
        "class BetterWordSymbCNN(nn.Module):\n",
        "\n",
        "    def __init__(self, symb_vocab_size, embedding_dim, word_vocab_size):\n",
        "        super().__init__()\n",
        "\n",
        "        self.word_embedding = nn.Embedding(word_vocab_size, embedding_dim)\n",
        "        self.word_embedding.from_pretrained(torch.tensor(weights), freeze=True)\n",
        "        self.symb_embedding = nn.Embedding(symb_vocab_size, embedding_dim)\n",
        "        self.bigrams = nn.Conv1d(in_channels=embedding_dim, out_channels=100, kernel_size=2, padding='same')\n",
        "        self.trigrams = nn.Conv1d(in_channels=embedding_dim, out_channels=80, kernel_size=3, padding='same')\n",
        "        self.pooling = nn.MaxPool1d(kernel_size=2, stride=2)\n",
        "        self.word2hidden = nn.Linear(100, 10) \n",
        "        self.linear = nn.Linear(in_features=190, out_features=1)\n",
        "        self.dropout = nn.Dropout(p=0.5)\n",
        "        self.relu = nn.ReLU()   \n",
        "        self.out = nn.Sigmoid()\n",
        "\n",
        "    def forward(self, words, symbs):\n",
        "\n",
        "        emb_symbs = self.symb_embedding(symbs).transpose(1,2)\n",
        "        emb_words = self.word_embedding(words)  \n",
        "        mean_emb_words = torch.mean(emb_words, dim=1)\n",
        "        \n",
        "        feature_map_bigrams = self.dropout(self.pooling(self.relu(self.bigrams(emb_symbs))))\n",
        "        feature_map_trigrams = self.dropout(self.pooling(self.relu(self.trigrams(emb_symbs))))\n",
        "\n",
        "        pooling1 = feature_map_bigrams.max(2)[0] \n",
        "        pooling2 = feature_map_trigrams.max(2)[0]\n",
        "        \n",
        "        concat = torch.cat((pooling1, pooling2), 1)\n",
        "\n",
        "        vec = self.dropout(self.word2hidden(mean_emb_words))\n",
        "\n",
        "        concat = torch.cat((concat, vec), 1)\n",
        "        logits = self.out(self.linear(concat))      \n",
        "        return logits"
      ],
      "metadata": {
        "id": "bNauDDblhDZk"
      },
      "execution_count": 101,
      "outputs": []
    },
    {
      "cell_type": "code",
      "source": [
        "train_dataset = WordSymbDataset(train_data, word2id, symbol2id, DEVICE)\n",
        "train_sampler = RandomSampler(train_dataset)\n",
        "train_iterator = DataLoader(train_dataset, collate_fn = train_dataset.collate_fn, sampler=train_sampler, batch_size=1024)\n"
      ],
      "metadata": {
        "id": "QU2pbN1Riia0"
      },
      "execution_count": 102,
      "outputs": []
    },
    {
      "cell_type": "code",
      "source": [
        "val_dataset = WordSymbDataset(val_data, word2id, symbol2id, DEVICE)\n",
        "val_sampler = SequentialSampler(val_dataset)\n",
        "val_iterator = DataLoader(val_dataset, collate_fn = val_dataset.collate_fn, sampler=val_sampler, batch_size=1024)"
      ],
      "metadata": {
        "id": "wk2wWQT5iia7"
      },
      "execution_count": 103,
      "outputs": []
    },
    {
      "cell_type": "code",
      "source": [
        "model = BetterWordSymbCNN(len(symbol2id), 100, len(word2id))\n",
        "optimizer = optim.Adam(model.parameters(), lr=0.001)\n",
        "criterion = nn.BCELoss()\n",
        "\n",
        "model = model.to(DEVICE)\n",
        "criterion = criterion.to(DEVICE)"
      ],
      "metadata": {
        "id": "v58o96Moh1U_"
      },
      "execution_count": 104,
      "outputs": []
    },
    {
      "cell_type": "code",
      "source": [
        "losses = []\n",
        "val_losses = []\n",
        "f1s = []\n",
        "val_f1s = []\n",
        "\n",
        "for i in range(2):\n",
        "    print(f'\\nEpoch {i}')\n",
        "    print('Training...')\n",
        "    epoch_loss = train2(model, train_iterator, optimizer, criterion)\n",
        "    losses.append(epoch_loss)\n",
        "    print('\\nEvaluating on train...')\n",
        "    f1_on_train,_ = evaluate2(model, train_iterator, criterion)\n",
        "    f1s.append(f1_on_train)\n",
        "    print('\\nEvaluating on test...')\n",
        "    f1_on_test, epoch_loss_on_test = evaluate2(model, val_iterator, criterion)\n",
        "    val_losses.append(epoch_loss_on_test)\n",
        "    val_f1s.append(f1_on_test)"
      ],
      "metadata": {
        "colab": {
          "base_uri": "https://localhost:8080/"
        },
        "outputId": "25978b96-e395-4060-943f-ce728341f3c7",
        "id": "EcIPfMFvh1VA"
      },
      "execution_count": 105,
      "outputs": [
        {
          "output_type": "stream",
          "name": "stdout",
          "text": [
            "\n",
            "Epoch 0\n",
            "Training...\n",
            "Train loss: 0.34116602973902926\n",
            "Train loss: 0.19829462430831316\n",
            "Train loss: 0.14203536798819327\n",
            "Train loss: 0.11119019453206079\n",
            "Train loss: 0.09153182285666552\n",
            "\n",
            "Evaluating on train...\n",
            "Val loss: 0.013347569086095867, Val metric: 1.0261262655258179\n",
            "Val loss: 0.013036564842838308, Val metric: 1.0113070011138916\n",
            "Val loss: 0.012614792678505182, Val metric: 1.0066808462142944\n",
            "Val loss: 0.012615825572191812, Val metric: 1.0042476654052734\n",
            "Val loss: 0.01268351970818536, Val metric: 1.0027964115142822\n",
            "\n",
            "Evaluating on test...\n",
            "Val loss: 0.013466230826452374, Val metric: 1.1216354370117188\n",
            "Val loss: 0.013082051868824399, Val metric: 1.0556704998016357\n",
            "Val loss: 0.013228716042179327, Val metric: 1.035471796989441\n",
            "Val loss: 0.013147911509232862, Val metric: 1.0256670713424683\n",
            "Val loss: 0.012527826951224019, Val metric: 1.019984245300293\n",
            "\n",
            "Epoch 1\n",
            "Training...\n",
            "Train loss: 0.010205681791857761\n",
            "Train loss: 0.008645346027164571\n",
            "Train loss: 0.007914712354809476\n",
            "Train loss: 0.007345919438684694\n",
            "Train loss: 0.006837347522377968\n",
            "\n",
            "Evaluating on train...\n",
            "Val loss: 0.005498098812120802, Val metric: 1.0279043912887573\n",
            "Val loss: 0.0056578570376217795, Val metric: 1.0129650831222534\n",
            "Val loss: 0.005605001954021505, Val metric: 1.0080947875976562\n",
            "Val loss: 0.005554888611860412, Val metric: 1.0056536197662354\n",
            "Val loss: 0.00560598716209375, Val metric: 1.0041567087173462\n",
            "\n",
            "Evaluating on test...\n",
            "Val loss: 0.006247912620892748, Val metric: 1.1228320598602295\n",
            "Val loss: 0.0057685770340921245, Val metric: 1.0571810007095337\n",
            "Val loss: 0.005702675776914335, Val metric: 1.0369058847427368\n",
            "Val loss: 0.005584725737571716, Val metric: 1.0270335674285889\n",
            "Val loss: 0.0052588185988662935, Val metric: 1.0212870836257935\n"
          ]
        }
      ]
    },
    {
      "cell_type": "code",
      "source": [
        ""
      ],
      "metadata": {
        "id": "ZJEJCQB7jXcB"
      },
      "execution_count": null,
      "outputs": []
    },
    {
      "cell_type": "code",
      "source": [
        "loss_graph(losses, val_losses)\n",
        "f1_graph(f1s, val_f1s)"
      ],
      "metadata": {
        "colab": {
          "base_uri": "https://localhost:8080/",
          "height": 573
        },
        "outputId": "d1f7aa61-f5e6-4e10-a042-fbe6a217d1aa",
        "id": "MqzeRdwkjXwJ"
      },
      "execution_count": 106,
      "outputs": [
        {
          "output_type": "display_data",
          "data": {
            "image/png": "[encoded data removed]",
            "text/plain": [
              "<Figure size 432x288 with 1 Axes>"
            ]
          },
          "metadata": {
            "needs_background": "light"
          }
        },
        {
          "output_type": "display_data",
          "data": {
            "image/png": "[encoded data removed]",
            "text/plain": [
              "<Figure size 432x288 with 1 Axes>"
            ]
          },
          "metadata": {
            "needs_background": "light"
          }
        }
      ]
    },
    {
      "cell_type": "code",
      "source": [
        "fp, fn, tp, tn = predict_2(model, val_iterator)"
      ],
      "metadata": {
        "id": "ke-5lzlDjXwK"
      },
      "execution_count": 107,
      "outputs": []
    },
    {
      "cell_type": "code",
      "source": [
        "metrics(tp, tn, fn)"
      ],
      "metadata": {
        "colab": {
          "base_uri": "https://localhost:8080/"
        },
        "outputId": "a5da57ac-cc01-4ed0-9784-31b1b4e07f72",
        "id": "AQQLXWKajXwL"
      },
      "execution_count": 108,
      "outputs": [
        {
          "output_type": "stream",
          "name": "stdout",
          "text": [
            "precision:  0.9976622364604528\n",
            "recall:  0.9994795506787526\n",
            "f_score:  0.9985700667302192\n"
          ]
        }
      ]
    },
    {
      "cell_type": "code",
      "source": [
        "print('fp :', len(fp))\n",
        "print('fn :', len(fn))\n",
        "print('tp :', len(tp))\n",
        "print('tn :', len(tn))"
      ],
      "metadata": {
        "colab": {
          "base_uri": "https://localhost:8080/"
        },
        "id": "uacoRSQOjXwM",
        "outputId": "9be3acfc-ca72-49a5-8427-374d0873c5c8"
      },
      "execution_count": 109,
      "outputs": [
        {
          "output_type": "stream",
          "name": "stdout",
          "text": [
            "fp : 54\n",
            "fn : 12\n",
            "tp : 23045\n",
            "tn : 22256\n"
          ]
        }
      ]
    },
    {
      "cell_type": "code",
      "source": [
        "fp[:10]"
      ],
      "metadata": {
        "colab": {
          "base_uri": "https://localhost:8080/"
        },
        "id": "0EldRlU1VyZY",
        "outputId": "a657f870-dce6-46fc-c254-62b57943b960"
      },
      "execution_count": 110,
      "outputs": [
        {
          "output_type": "execute_result",
          "data": {
            "text/plain": [
              "['USER красота *-* эх, приходится довольствоваться простыми елками',\n",
              " 'rt USER 3к твит для USER USER USER c:',\n",
              " 'USER го ты в 14:00 подойдешь в пойдем куда ж много гулять жи скор',\n",
              " 'USER неа. из за папы я всегда буду чувствовать что я в этой жизни ничего не добился',\n",
              " 'rt USER #дирекшионерфолловьдирекшионера #взаимныйфолловинг #читаювзаимно осталось 146 с::',\n",
              " 'rt USER омо *_* URL',\n",
              " 'rt USER USER ааа,ну это да:с + с тем что юрец всегда позже начинается реально напряжно',\n",
              " 'USER я не картон режу и поэтому гоу хd',\n",
              " 'rt USER #happybirthdayjaredleto люблю этот фильм *о* URL',\n",
              " 'rt USER лу для USER с: добра тебе URL']"
            ]
          },
          "metadata": {},
          "execution_count": 110
        }
      ]
    },
    {
      "cell_type": "code",
      "source": [
        "fn"
      ],
      "metadata": {
        "colab": {
          "base_uri": "https://localhost:8080/"
        },
        "id": "8o9kgaF9V1Qc",
        "outputId": "9820a101-b0ac-4191-ef99-6c13ac3ebe10"
      },
      "execution_count": 111,
      "outputs": [
        {
          "output_type": "execute_result",
          "data": {
            "text/plain": [
              "['\"USER ну и URL',\n",
              " 'майдан онлайн трансляция URL с помощью USER',\n",
              " 'rt USER ну так как-то подписывайся на инстаграм USER #важенкаждый URL',\n",
              " '\"USER USER ваалейкум ва ва URL',\n",
              " '\"USER я тоже вас люблю! URL',\n",
              " 'любимая тема USER URL',\n",
              " 'USER во вчерашней речь шла о букве',\n",
              " 'понимает меня,как никто другой только - USER URL',\n",
              " 'USER бля. да хули в ней русского. вот в джерси как собирают URL ненавижу блядь кислоту с которой не прет',\n",
              " 'смеемся как упоротые и слушаем любимые треки с USER',\n",
              " 'так круто было увидеться наконец с эдичкой USER',\n",
              " 'посмотри кто у тебя первый в списке друзей? увидел? человечек тебе дорог. не вздумай проебать его. у меня первая USER']"
            ]
          },
          "metadata": {},
          "execution_count": 111
        }
      ]
    },
    {
      "cell_type": "markdown",
      "source": [
        "Здесь тоже, значительно лучше. Некоторые ошибки, кажется, из-за разметки. Некоторые твиты, на мой взгляд, неоднозначны - \"USER го ты в 14:00 подойдешь в пойдем куда ж много гулять жи скор\". Возможно, некоторые фп - это сарказм, но я даже не представляю как его можно распознать))\n",
        "\n"
      ],
      "metadata": {
        "id": "Ceto6hxgV0B_"
      }
    }
  ]
}